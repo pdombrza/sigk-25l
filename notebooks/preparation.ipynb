{
 "cells": [
  {
   "cell_type": "code",
   "execution_count": 8,
   "metadata": {
    "ExecuteTime": {
     "end_time": "2025-04-06T14:11:44.101414Z",
     "start_time": "2025-04-06T14:11:44.099041Z"
    }
   },
   "outputs": [],
   "source": [
    "import os\n",
    "import cv2\n",
    "import csv\n",
    "import numpy as np\n",
    "from numpy import ndarray\n",
    "from brisque import BRISQUE"
   ]
  },
  {
   "cell_type": "code",
   "execution_count": 9,
   "metadata": {
    "ExecuteTime": {
     "end_time": "2025-04-06T14:11:44.104467Z",
     "start_time": "2025-04-06T14:11:44.102558Z"
    }
   },
   "outputs": [],
   "source": [
    "os.environ['OPENCV_IO_ENABLE_OPENEXR'] = \"1\""
   ]
  },
  {
   "cell_type": "code",
   "execution_count": 10,
   "metadata": {
    "ExecuteTime": {
     "end_time": "2025-04-06T14:11:44.109551Z",
     "start_time": "2025-04-06T14:11:44.105380Z"
    }
   },
   "outputs": [],
   "source": [
    "def read_exr(im_path: str) -> ndarray:\n",
    "    return cv2.imread(filename=im_path, flags=cv2.IMREAD_ANYCOLOR | cv2.IMREAD_ANYDEPTH)\n",
    "\n",
    "def resize_image(image: ndarray, size: tuple = (256, 256)) -> ndarray:\n",
    "    return cv2.resize(image, size, interpolation=cv2.INTER_LINEAR)\n",
    "\n",
    "def tone_map_reinhard(image: ndarray) -> ndarray: \n",
    "    tonemap_operator = cv2.createTonemapReinhard(gamma=2.2, intensity=0.0, light_adapt=0.0, color_adapt=0.0)\n",
    "    result = tonemap_operator.process(src=image)\n",
    "    return result\n",
    "\n",
    "def tone_map_mantiuk(image: ndarray) -> ndarray:\n",
    "    tonemap_operator = cv2.createTonemapMantiuk(gamma=2.2, scale=0.85, saturation=1.2)\n",
    "    result = tonemap_operator.process(src=image)\n",
    "    return result\n",
    "\n",
    "def evaluate_image(image: ndarray) -> float:\n",
    "    image = (image * 255).clip(0, 255).astype(np.uint8)\n",
    "    \n",
    "    metric = BRISQUE(url=False)\n",
    "    return metric.score(img=image)\n",
    "\n",
    "def save_png(image: ndarray, output_path: str):\n",
    "    image_8bit = (image * 255).clip(0, 255).astype(np.uint8) \n",
    "    cv2.imwrite(output_path, image_8bit)\n",
    "\n",
    "def save_exr(image: ndarray, output_path: str):\n",
    "    cv2.imwrite(output_path, image.astype(np.float32)) "
   ]
  },
  {
   "cell_type": "code",
   "execution_count": 11,
   "metadata": {
    "ExecuteTime": {
     "end_time": "2025-04-06T14:11:44.113287Z",
     "start_time": "2025-04-06T14:11:44.110773Z"
    }
   },
   "outputs": [],
   "source": [
    "INPUT_DIR = \"../data/reference/\"\n",
    "OUTPUT_DIR = \"../data/output_dir\"\n",
    "REINHARD_DIR = \"../data/reinhard_output/\"\n",
    "MANTIUK_DIR = \"../data/mantiuk_output/\"\n",
    "METRIC_CSV = \"../data/brisque_MANTIUK_REINHARD.csv\"\n",
    "resized_scale = (256,256)"
   ]
  },
  {
   "cell_type": "code",
   "execution_count": 12,
   "metadata": {
    "ExecuteTime": {
     "end_time": "2025-04-06T14:11:44.117413Z",
     "start_time": "2025-04-06T14:11:44.114438Z"
    }
   },
   "outputs": [],
   "source": [
    "csv_headers = [\"Filename\", \"REINHARD\", \"MANTIUK\"]\n",
    "with open(METRIC_CSV, \"w\", newline=\"\") as f:\n",
    "    writer = csv.writer(f)\n",
    "    writer.writerow(csv_headers)"
   ]
  },
  {
   "cell_type": "code",
   "execution_count": 13,
   "metadata": {
    "ExecuteTime": {
     "end_time": "2025-04-06T14:11:44.120935Z",
     "start_time": "2025-04-06T14:11:44.118281Z"
    }
   },
   "outputs": [],
   "source": [
    "os.makedirs(REINHARD_DIR, exist_ok=True)\n",
    "os.makedirs(MANTIUK_DIR, exist_ok=True)\n",
    "os.makedirs(OUTPUT_DIR, exist_ok=True)"
   ]
  },
  {
   "cell_type": "code",
   "execution_count": 14,
   "metadata": {
    "ExecuteTime": {
     "end_time": "2025-04-06T14:11:44.155317Z",
     "start_time": "2025-04-06T14:11:44.122179Z"
    }
   },
   "outputs": [
    {
     "name": "stderr",
     "output_type": "stream",
     "text": [
      "/tmp/ipykernel_19857/2170540200.py:18: RuntimeWarning: invalid value encountered in cast\n",
      "  image = (image * 255).clip(0, 255).astype(np.uint8)\n",
      "/tmp/ipykernel_19857/2170540200.py:24: RuntimeWarning: invalid value encountered in cast\n",
      "  image_8bit = (image * 255).clip(0, 255).astype(np.uint8)\n"
     ]
    }
   ],
   "source": [
    "for filename in os.listdir(INPUT_DIR):\n",
    "    if filename.endswith(\".exr\"):\n",
    "        input_path = os.path.join(INPUT_DIR, filename)\n",
    "        output_path = os.path.join(OUTPUT_DIR, filename)\n",
    "\n",
    "        image = read_exr(input_path)\n",
    "        image_resized = resize_image(image, resized_scale)\n",
    "        save_exr(image_resized, output_path)\n",
    "\n",
    "        tone_mapped_reinhard = tone_map_reinhard(image_resized)\n",
    "        tone_mapped_mantiuk = tone_map_mantiuk(image_resized)\n",
    "\n",
    "        reinhard_score = evaluate_image(tone_mapped_reinhard)\n",
    "        mantiuk_score = evaluate_image(tone_mapped_mantiuk)\n",
    "\n",
    "        reinhard_path = os.path.join(REINHARD_DIR, filename.replace(\".exr\", \".png\"))\n",
    "        mantiuk_path = os.path.join(MANTIUK_DIR, filename.replace(\".exr\", \".png\"))\n",
    "        \n",
    "        with open(METRIC_CSV, \"a\", newline=\"\") as f:\n",
    "            writer = csv.writer(f)\n",
    "            writer.writerow([filename, reinhard_score, mantiuk_score]\n",
    "        )\n",
    "        save_png(tone_mapped_reinhard, reinhard_path)\n",
    "        save_png(tone_mapped_mantiuk, mantiuk_path)\n"
   ]
  },
  {
   "cell_type": "code",
   "execution_count": null,
   "metadata": {},
   "outputs": [],
   "source": []
  }
 ],
 "metadata": {
  "kernelspec": {
   "display_name": "sigk",
   "language": "python",
   "name": "python3"
  },
  "language_info": {
   "codemirror_mode": {
    "name": "ipython",
    "version": 3
   },
   "file_extension": ".py",
   "mimetype": "text/x-python",
   "name": "python",
   "nbconvert_exporter": "python",
   "pygments_lexer": "ipython3",
   "version": "3.9.21"
  }
 },
 "nbformat": 4,
 "nbformat_minor": 2
}
